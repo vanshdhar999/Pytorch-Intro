{
  "nbformat": 4,
  "nbformat_minor": 0,
  "metadata": {
    "colab": {
      "provenance": [],
      "authorship_tag": "ABX9TyNW/mb7a+gNF38DV6zJTp0u",
      "include_colab_link": true
    },
    "kernelspec": {
      "name": "python3",
      "display_name": "Python 3"
    },
    "language_info": {
      "name": "python"
    }
  },
  "cells": [
    {
      "cell_type": "markdown",
      "metadata": {
        "id": "view-in-github",
        "colab_type": "text"
      },
      "source": [
        "<a href=\"https://colab.research.google.com/github/vanshdhar999/Pytorch-Intro/blob/main/Pytorch101.ipynb\" target=\"_parent\"><img src=\"https://colab.research.google.com/assets/colab-badge.svg\" alt=\"Open In Colab\"/></a>"
      ]
    },
    {
      "cell_type": "code",
      "execution_count": null,
      "metadata": {
        "id": "ucAf2drNbj-U"
      },
      "outputs": [],
      "source": [
        "import torch as th\n",
        "import pandas as pd\n",
        "import matplotlib.pyplot as plt\n",
        "import numpy as np"
      ]
    },
    {
      "cell_type": "markdown",
      "source": [
        "## This is a introduction to Pytorch for Machine Learning and Deep Learning. Youtube link: https://www.youtube.com/watch?v=V_xro1bcAuA&t=10326s"
      ],
      "metadata": {
        "id": "RK4CUzPhcLJu"
      }
    },
    {
      "cell_type": "markdown",
      "source": [
        "## Introduction to Tensors\n",
        "Tensors are a way to store numeric data and multidimensional data."
      ],
      "metadata": {
        "id": "j5k8uCNocu2G"
      }
    },
    {
      "cell_type": "code",
      "source": [
        "# scalar tensor\n",
        "scalar = th.tensor(7)\n",
        "# this is a scalar with 0 dimension"
      ],
      "metadata": {
        "id": "Jj9kqdZpcxMl"
      },
      "execution_count": null,
      "outputs": []
    },
    {
      "cell_type": "code",
      "source": [
        "#how to find the dimension of the tensor\n",
        "scalar.ndim"
      ],
      "metadata": {
        "colab": {
          "base_uri": "https://localhost:8080/"
        },
        "id": "lGBqZJy6dAIp",
        "outputId": "b785268c-8a1b-407f-8f03-06b120c2e20d"
      },
      "execution_count": null,
      "outputs": [
        {
          "output_type": "execute_result",
          "data": {
            "text/plain": [
              "0"
            ]
          },
          "metadata": {},
          "execution_count": 3
        }
      ]
    },
    {
      "cell_type": "code",
      "source": [
        "#get tensor item back as a python int\n",
        "scalar.item()"
      ],
      "metadata": {
        "colab": {
          "base_uri": "https://localhost:8080/"
        },
        "id": "DWdFwptxdN0R",
        "outputId": "4030ca35-20ac-4685-b0e6-c3cf497b6927"
      },
      "execution_count": null,
      "outputs": [
        {
          "output_type": "execute_result",
          "data": {
            "text/plain": [
              "7"
            ]
          },
          "metadata": {},
          "execution_count": 4
        }
      ]
    },
    {
      "cell_type": "code",
      "source": [
        " #Vector in Tensor\n",
        " vector = th.tensor([1, 2])\n",
        " vector.ndim"
      ],
      "metadata": {
        "colab": {
          "base_uri": "https://localhost:8080/"
        },
        "id": "-pLVU3Epdt1O",
        "outputId": "c010e2d1-6ac5-4da2-f6c4-8c25c44fc421"
      },
      "execution_count": null,
      "outputs": [
        {
          "output_type": "execute_result",
          "data": {
            "text/plain": [
              "1"
            ]
          },
          "metadata": {},
          "execution_count": 5
        }
      ]
    },
    {
      "cell_type": "code",
      "source": [
        "#Matrix\n",
        "MATRIX = th.tensor([[1, 12, 3],\n",
        "                    [1, 12,1]])\n",
        "MATRIX.ndim"
      ],
      "metadata": {
        "colab": {
          "base_uri": "https://localhost:8080/"
        },
        "id": "agZsTz6MeGGs",
        "outputId": "58584ca7-1e3c-4df3-f18f-76650582fd0c"
      },
      "execution_count": null,
      "outputs": [
        {
          "output_type": "execute_result",
          "data": {
            "text/plain": [
              "2"
            ]
          },
          "metadata": {},
          "execution_count": 6
        }
      ]
    },
    {
      "cell_type": "code",
      "source": [
        "\n",
        "#Tensor, any dimension, a general thumb of rule for remembering the dimension\n",
        "# (a, b, c) a -> outer dimension\n",
        "          # b and c  -> row x column\n",
        "TENSOR = th.tensor([[[1, 2, 3],\n",
        "                     [2, 3, 4],\n",
        "                     [3, 4,5]]])\n",
        "TENSOR.shape # gives the size of the tensor"
      ],
      "metadata": {
        "colab": {
          "base_uri": "https://localhost:8080/"
        },
        "id": "FfhBLYOueeRN",
        "outputId": "c58efdcd-51e1-4f49-e392-7ba8ee92ec52"
      },
      "execution_count": null,
      "outputs": [
        {
          "output_type": "execute_result",
          "data": {
            "text/plain": [
              "torch.Size([1, 3, 3])"
            ]
          },
          "metadata": {},
          "execution_count": 7
        }
      ]
    },
    {
      "cell_type": "code",
      "source": [
        "# Examples of tensor\n",
        "Tensor2 = th.tensor([[[1, 2],\n",
        "                      [2, 3],\n",
        "                       [3, 4]]])\n",
        "Tensor2.size()"
      ],
      "metadata": {
        "colab": {
          "base_uri": "https://localhost:8080/"
        },
        "id": "P2dtRUb5fU70",
        "outputId": "3b325357-3442-4a85-fbb7-4e034908689b"
      },
      "execution_count": null,
      "outputs": [
        {
          "output_type": "execute_result",
          "data": {
            "text/plain": [
              "torch.Size([1, 3, 2])"
            ]
          },
          "metadata": {},
          "execution_count": 8
        }
      ]
    },
    {
      "cell_type": "markdown",
      "source": [
        "## Random Tensors"
      ],
      "metadata": {
        "id": "6wMHNux0gC9Y"
      }
    },
    {
      "cell_type": "code",
      "source": [
        "random_tensor = th.rand(1, 3, 4)\n",
        "random_tensor"
      ],
      "metadata": {
        "colab": {
          "base_uri": "https://localhost:8080/"
        },
        "id": "BwqgPmmmgrCV",
        "outputId": "c4aa64c3-d710-42bc-caff-700c9ca8a420"
      },
      "execution_count": null,
      "outputs": [
        {
          "output_type": "execute_result",
          "data": {
            "text/plain": [
              "tensor([[[0.5552, 0.6000, 0.6080, 0.9710],\n",
              "         [0.1481, 0.4665, 0.6118, 0.2092],\n",
              "         [0.5722, 0.7549, 0.3792, 0.9263]]])"
            ]
          },
          "metadata": {},
          "execution_count": 9
        }
      ]
    },
    {
      "cell_type": "code",
      "source": [
        "# Images have tensors of shape (channels, height, width)\n",
        "random_image_tensor = th.rand(3, 244, 244)\n",
        "random_image_tensor"
      ],
      "metadata": {
        "colab": {
          "base_uri": "https://localhost:8080/"
        },
        "id": "5hG7L8nThCqx",
        "outputId": "a41d956b-439e-487c-d22e-252e7bf6a88d"
      },
      "execution_count": null,
      "outputs": [
        {
          "output_type": "execute_result",
          "data": {
            "text/plain": [
              "tensor([[[0.9837, 0.7580, 0.7884,  ..., 0.8971, 0.3273, 0.3252],\n",
              "         [0.5587, 0.2173, 0.1329,  ..., 0.3857, 0.1611, 0.8899],\n",
              "         [0.1921, 0.8905, 0.2670,  ..., 0.0939, 0.9866, 0.3077],\n",
              "         ...,\n",
              "         [0.5696, 0.6718, 0.8086,  ..., 0.9138, 0.1169, 0.4741],\n",
              "         [0.8857, 0.9170, 0.8346,  ..., 0.2815, 0.0053, 0.3469],\n",
              "         [0.3918, 0.5421, 0.7179,  ..., 0.8568, 0.2325, 0.5583]],\n",
              "\n",
              "        [[0.4329, 0.7009, 0.1289,  ..., 0.1569, 0.3619, 0.4552],\n",
              "         [0.6121, 0.7293, 0.0019,  ..., 0.2017, 0.5681, 0.9567],\n",
              "         [0.2262, 0.3774, 0.2519,  ..., 0.8494, 0.1913, 0.8783],\n",
              "         ...,\n",
              "         [0.6469, 0.1018, 0.9212,  ..., 0.5591, 0.5820, 0.2248],\n",
              "         [0.9526, 0.9462, 0.2297,  ..., 0.4059, 0.9477, 0.1950],\n",
              "         [0.0606, 0.5762, 0.7568,  ..., 0.1004, 0.6527, 0.4593]],\n",
              "\n",
              "        [[0.7933, 0.9572, 0.6305,  ..., 0.6507, 0.9010, 0.0829],\n",
              "         [0.1178, 0.7197, 0.8575,  ..., 0.0085, 0.3633, 0.9746],\n",
              "         [0.3088, 0.2477, 0.1636,  ..., 0.6170, 0.5393, 0.8350],\n",
              "         ...,\n",
              "         [0.3842, 0.0491, 0.4788,  ..., 0.7659, 0.5555, 0.7467],\n",
              "         [0.6108, 0.6313, 0.2309,  ..., 0.8538, 0.9006, 0.9251],\n",
              "         [0.7294, 0.7615, 0.5336,  ..., 0.4490, 0.2058, 0.7816]]])"
            ]
          },
          "metadata": {},
          "execution_count": 10
        }
      ]
    },
    {
      "cell_type": "code",
      "source": [
        "#Zeros and ones tensors\n",
        "zero = th.zeros(3, 3)\n",
        "ones = th.ones(3, 3)\n",
        "ones"
      ],
      "metadata": {
        "colab": {
          "base_uri": "https://localhost:8080/"
        },
        "id": "BhOWqg-GhCvs",
        "outputId": "66a4a5b4-42c7-43a7-adc6-b7354cf17fd3"
      },
      "execution_count": null,
      "outputs": [
        {
          "output_type": "execute_result",
          "data": {
            "text/plain": [
              "tensor([[1., 1., 1.],\n",
              "        [1., 1., 1.],\n",
              "        [1., 1., 1.]])"
            ]
          },
          "metadata": {},
          "execution_count": 11
        }
      ]
    },
    {
      "cell_type": "markdown",
      "source": [
        "## Tensors range and tensors like"
      ],
      "metadata": {
        "id": "Y7q1UqsshCyB"
      }
    },
    {
      "cell_type": "code",
      "source": [
        "tensor_range = th.arange(start = 1, end = 11, step = 1)\n",
        "tensor_range"
      ],
      "metadata": {
        "colab": {
          "base_uri": "https://localhost:8080/"
        },
        "id": "uageD_JYhC0H",
        "outputId": "8eea2d42-6944-443a-d428-704a4ae44df0"
      },
      "execution_count": null,
      "outputs": [
        {
          "output_type": "execute_result",
          "data": {
            "text/plain": [
              "tensor([ 1,  2,  3,  4,  5,  6,  7,  8,  9, 10])"
            ]
          },
          "metadata": {},
          "execution_count": 12
        }
      ]
    },
    {
      "cell_type": "code",
      "source": [
        "## If we want to create a tensor with the same dimension as the other tensor\n",
        "tensor_like_range_zero = th.zeros_like(input=tensor_range)\n",
        "tensor_like_range_zero"
      ],
      "metadata": {
        "colab": {
          "base_uri": "https://localhost:8080/"
        },
        "id": "dgeqpYMmhC2s",
        "outputId": "47197ea7-c696-47e0-9f13-252783c7177d"
      },
      "execution_count": null,
      "outputs": [
        {
          "output_type": "execute_result",
          "data": {
            "text/plain": [
              "tensor([0, 0, 0, 0, 0, 0, 0, 0, 0, 0])"
            ]
          },
          "metadata": {},
          "execution_count": 13
        }
      ]
    },
    {
      "cell_type": "markdown",
      "source": [
        "###Tensors datatype\n",
        "Default datatype is float32\n",
        "We can change the dtype with\n",
        "`dtype = data_type`"
      ],
      "metadata": {
        "id": "lTdppt29hC5F"
      }
    },
    {
      "cell_type": "code",
      "source": [
        "float_32_tensor = th.tensor([1, 2, 3],\n",
        "                            dtype=None,\n",
        "                            device='cpu',\n",
        "                            requires_grad = False)"
      ],
      "metadata": {
        "id": "fMoi1pPKhC7b"
      },
      "execution_count": null,
      "outputs": []
    },
    {
      "cell_type": "markdown",
      "source": [
        "##Tensor Operations\n",
        "Addition\n",
        "Multiplication(element-wise and normal)\n",
        "Subtraction\n",
        "Division"
      ],
      "metadata": {
        "id": "kFrglR94hC_0"
      }
    },
    {
      "cell_type": "code",
      "source": [
        "# Addition and Subtraction is done using +, -\n",
        "%%time\n",
        "tensor_1 = th.tensor([1,2,3])\n",
        "tensor_2 = th.tensor([1, 2, 3])\n",
        "tensor_1 * tensor_2 # Element Wise multiplication"
      ],
      "metadata": {
        "colab": {
          "base_uri": "https://localhost:8080/"
        },
        "id": "9U7wvBluhDCb",
        "outputId": "387fef12-c935-4730-f283-f163db0ebc79"
      },
      "execution_count": null,
      "outputs": [
        {
          "output_type": "stream",
          "name": "stdout",
          "text": [
            "CPU times: user 315 µs, sys: 0 ns, total: 315 µs\n",
            "Wall time: 329 µs\n"
          ]
        },
        {
          "output_type": "execute_result",
          "data": {
            "text/plain": [
              "tensor([1, 4, 9])"
            ]
          },
          "metadata": {},
          "execution_count": 64
        }
      ]
    },
    {
      "cell_type": "code",
      "source": [
        "# Matrix multiplication is done using matmul\n",
        "print(f\"tensor_1 dim {tensor_1.ndim} tensor_2 dim {tensor_2.ndim}\")\n",
        "th.matmul(tensor_1, tensor_2)\n",
        "\n",
        "tensor_A = th.rand(3, 2)\n",
        "tensor_B = th.rand(2, 3)\n",
        "\n",
        "result = th.matmul(tensor_A, tensor_B)\n",
        "result"
      ],
      "metadata": {
        "colab": {
          "base_uri": "https://localhost:8080/"
        },
        "id": "uE2QVivVn_t4",
        "outputId": "9f3fc8b3-6f36-4fe0-c293-b5e0686494fa"
      },
      "execution_count": null,
      "outputs": [
        {
          "output_type": "stream",
          "name": "stdout",
          "text": [
            "tensor_1 dim 1 tensor_2 dim 1\n"
          ]
        },
        {
          "output_type": "execute_result",
          "data": {
            "text/plain": [
              "tensor([[0.3063, 0.7043, 0.3284],\n",
              "        [0.4867, 1.0711, 0.5751],\n",
              "        [0.4413, 0.9677, 0.5256]])"
            ]
          },
          "metadata": {},
          "execution_count": 65
        }
      ]
    },
    {
      "cell_type": "markdown",
      "source": [
        "##Using transpose we can change the dimensions of the tensor"
      ],
      "metadata": {
        "id": "b32ey4gEoVmn"
      }
    },
    {
      "cell_type": "code",
      "source": [
        "## Transpose is used as tensor.T\n"
      ],
      "metadata": {
        "id": "BLDYi_lGpllb"
      },
      "execution_count": null,
      "outputs": []
    },
    {
      "cell_type": "markdown",
      "source": [
        "\n",
        "## Tensor Aggregation\n",
        "We can find the min, max and the mean of the tensor"
      ],
      "metadata": {
        "id": "JoqtMaempqyx"
      }
    },
    {
      "cell_type": "code",
      "source": [
        "tensor_1= th.tensor([[2, 3],\n",
        "                  [3, 2]], dtype=th.float32)\n",
        "tensor_1.type(th.float32)\n",
        "print(f\"type {tensor_1.dtype}\")"
      ],
      "metadata": {
        "colab": {
          "base_uri": "https://localhost:8080/"
        },
        "id": "Wgvluordq6fB",
        "outputId": "83f13479-bbf2-43f9-cae0-7c0a742a70a8"
      },
      "execution_count": null,
      "outputs": [
        {
          "output_type": "stream",
          "name": "stdout",
          "text": [
            "type torch.float32\n"
          ]
        }
      ]
    },
    {
      "cell_type": "code",
      "source": [
        "## Min and Max of tensor\n",
        "tensor_1 = th.tensor([1, 2, 23,23], dtype=th.float)\n",
        "print(f\"max {th.max(tensor_1)}, min {th.min(tensor_1)}\")"
      ],
      "metadata": {
        "colab": {
          "base_uri": "https://localhost:8080/"
        },
        "id": "ObXESpXtq6ia",
        "outputId": "4a6784db-a868-4461-e129-c47578d3a36d"
      },
      "execution_count": null,
      "outputs": [
        {
          "output_type": "stream",
          "name": "stdout",
          "text": [
            "max 23.0, min 1.0\n"
          ]
        }
      ]
    },
    {
      "cell_type": "code",
      "source": [
        "# Mean of tensor\n",
        "print(f\"Mean {th.mean(tensor_1)}\")"
      ],
      "metadata": {
        "colab": {
          "base_uri": "https://localhost:8080/"
        },
        "id": "Ut07MdmEq6nV",
        "outputId": "a4092a6c-ca31-4182-f517-27b44a91a74a"
      },
      "execution_count": null,
      "outputs": [
        {
          "output_type": "stream",
          "name": "stdout",
          "text": [
            "Mean 12.25\n"
          ]
        }
      ]
    },
    {
      "cell_type": "markdown",
      "source": [
        "##Argmin and Argmax"
      ],
      "metadata": {
        "id": "GMv5fV_tq6p9"
      }
    },
    {
      "cell_type": "code",
      "source": [
        "tensor_1.argmin(), tensor_1.argmax()"
      ],
      "metadata": {
        "colab": {
          "base_uri": "https://localhost:8080/"
        },
        "id": "MZLGwKezq6su",
        "outputId": "c1bd9612-e2ae-4104-e63f-c5548fa9e896"
      },
      "execution_count": null,
      "outputs": [
        {
          "output_type": "execute_result",
          "data": {
            "text/plain": [
              "(tensor(0), tensor(2))"
            ]
          },
          "metadata": {},
          "execution_count": 21
        }
      ]
    },
    {
      "cell_type": "markdown",
      "source": [
        "## Tensor shape manipulations\n",
        "1. Reshaping\n",
        "2. View\n",
        "3. Permute\n",
        "4. Stacking"
      ],
      "metadata": {
        "id": "zKsyKxaYq6va"
      }
    },
    {
      "cell_type": "code",
      "source": [
        "## Reshaping the tensor\n",
        "tensor_1 = th.tensor([1, 2, 3, 4])\n",
        "print(tensor_1.shape)\n",
        "tensor_changed = tensor_1.reshape(4, 1)\n",
        "# The reshape should be compatible with the original shape\n",
        "tensor_changed.shape, tensor_changed"
      ],
      "metadata": {
        "colab": {
          "base_uri": "https://localhost:8080/"
        },
        "id": "nYLIf1sOvEXZ",
        "outputId": "e3edd6e8-1675-43ef-e210-b3b1e3af0e2c"
      },
      "execution_count": null,
      "outputs": [
        {
          "output_type": "stream",
          "name": "stdout",
          "text": [
            "torch.Size([4])\n"
          ]
        },
        {
          "output_type": "execute_result",
          "data": {
            "text/plain": [
              "(torch.Size([4, 1]),\n",
              " tensor([[1],\n",
              "         [2],\n",
              "         [3],\n",
              "         [4]]))"
            ]
          },
          "metadata": {},
          "execution_count": 34
        }
      ]
    },
    {
      "cell_type": "code",
      "source": [
        "##Another example\n",
        "tensor_range = th.arange(start = 1, end = 101)\n",
        "print(tensor_range, tensor_range.shape)\n",
        "tensor_changed = tensor_range.reshape(100, 1)\n",
        "tensor_changed, tensor_changed.shape"
      ],
      "metadata": {
        "id": "BrrN2DEbvHe4"
      },
      "execution_count": null,
      "outputs": []
    },
    {
      "cell_type": "code",
      "source": [
        "# Using the view\n",
        "# Using the view, the new tensor shares the same memory as the previos tensor\n",
        "tensor_copy = tensor_1.view(4)\n",
        "tensor_copy"
      ],
      "metadata": {
        "colab": {
          "base_uri": "https://localhost:8080/"
        },
        "id": "nsSpE5uQv7Gj",
        "outputId": "03de2f77-922b-4541-cc45-9cc94875cd4b"
      },
      "execution_count": null,
      "outputs": [
        {
          "output_type": "execute_result",
          "data": {
            "text/plain": [
              "tensor([1, 2, 3, 4])"
            ]
          },
          "metadata": {},
          "execution_count": 37
        }
      ]
    },
    {
      "cell_type": "code",
      "source": [
        "# Stacking tensors on top of each other\n",
        "tensors_stacked = th.stack([tensor_1, tensor_1], dim=1)\n",
        "tensors_stacked, tensors_stacked.shape"
      ],
      "metadata": {
        "colab": {
          "base_uri": "https://localhost:8080/"
        },
        "id": "eYlIaj-hxPCN",
        "outputId": "8a1f3ff9-d560-4329-8e6b-399a950d6a09"
      },
      "execution_count": null,
      "outputs": [
        {
          "output_type": "execute_result",
          "data": {
            "text/plain": [
              "(tensor([[1, 1],\n",
              "         [2, 2],\n",
              "         [3, 3],\n",
              "         [4, 4]]),\n",
              " torch.Size([4, 2]))"
            ]
          },
          "metadata": {},
          "execution_count": 42
        }
      ]
    },
    {
      "cell_type": "code",
      "source": [
        "# th.stack([list of tensors], dim = 1/0)\n",
        "# 1 stacks horizontally, and 0 vertically"
      ],
      "metadata": {
        "id": "_5-FPR3VyOYy"
      },
      "execution_count": null,
      "outputs": []
    },
    {
      "cell_type": "code",
      "source": [
        "x = th.tensor([[1, 1],\n",
        "               [1, 1]])\n",
        "print(x, x.shape)\n",
        "x_stacked = th.hstack([x, x])\n",
        "x_stacked, x_stacked.shape"
      ],
      "metadata": {
        "colab": {
          "base_uri": "https://localhost:8080/"
        },
        "id": "BZgmqsrby6vI",
        "outputId": "8b57c705-2075-4b92-a480-0bb61b4f6d81"
      },
      "execution_count": null,
      "outputs": [
        {
          "output_type": "stream",
          "name": "stdout",
          "text": [
            "tensor([[1, 1],\n",
            "        [1, 1]]) torch.Size([2, 2])\n"
          ]
        },
        {
          "output_type": "execute_result",
          "data": {
            "text/plain": [
              "(tensor([[1, 1, 1, 1],\n",
              "         [1, 1, 1, 1]]),\n",
              " torch.Size([2, 4]))"
            ]
          },
          "metadata": {},
          "execution_count": 47
        }
      ]
    },
    {
      "cell_type": "code",
      "source": [
        "## Permute\n",
        "x = th.tensor([[2, 2],\n",
        "               [2, 2],\n",
        "               [23,2]])\n",
        "print(f\"shape of x {x.shape} \\n\")\n",
        "y = th.permute(x, (1, 0))\n",
        "print(f'x size after permute {y.shape}')"
      ],
      "metadata": {
        "colab": {
          "base_uri": "https://localhost:8080/"
        },
        "id": "bIKeOEgS1t-H",
        "outputId": "d5b36dbd-9653-4153-80fc-2af28e86615f"
      },
      "execution_count": null,
      "outputs": [
        {
          "output_type": "stream",
          "name": "stdout",
          "text": [
            "shape of x torch.Size([3, 2]) \n",
            "\n",
            "x size after permute torch.Size([2, 3])\n"
          ]
        }
      ]
    },
    {
      "cell_type": "markdown",
      "source": [
        "##Pytorch And Numpy\n",
        "We can create tensors from numpy arrays and vice versa\n"
      ],
      "metadata": {
        "id": "SDOHGy8l29ZH"
      }
    },
    {
      "cell_type": "code",
      "source": [
        "#Numpy array to tensor\n",
        "array = np.arange(1, 10)\n",
        "tensor = th.from_numpy(array).type(th.float32)\n",
        "print(f\"Numpy array {array} \\n tensor {tensor}\")\n",
        "\n",
        "print(f'Numpy array dtype = {array.dtype} tensor dtype = {tensor.dtype}')\n",
        "\n"
      ],
      "metadata": {
        "colab": {
          "base_uri": "https://localhost:8080/"
        },
        "id": "SvCM4Nbf6fMU",
        "outputId": "a019145d-c8f0-4522-f608-08a2d09c482a"
      },
      "execution_count": null,
      "outputs": [
        {
          "output_type": "stream",
          "name": "stdout",
          "text": [
            "Numpy array [1 2 3 4 5 6 7 8 9] \n",
            " tensor tensor([1., 2., 3., 4., 5., 6., 7., 8., 9.])\n",
            "Numpy array dtype = int64 tensor dtype = torch.float32\n"
          ]
        }
      ]
    },
    {
      "cell_type": "code",
      "source": [
        "#Tensor to numpy\n",
        "tensor = th.ones(9)\n",
        "numpy_tensor = tensor.numpy()\n",
        "numpy_tensor.dtype, tensor.dtype, numpy_tensor\n"
      ],
      "metadata": {
        "colab": {
          "base_uri": "https://localhost:8080/"
        },
        "id": "3FHY89Tb6tMc",
        "outputId": "7a879aac-3af1-4112-f65c-5f72fa70c4eb"
      },
      "execution_count": null,
      "outputs": [
        {
          "output_type": "execute_result",
          "data": {
            "text/plain": [
              "(dtype('float32'),\n",
              " torch.float32,\n",
              " array([1., 1., 1., 1., 1., 1., 1., 1., 1.], dtype=float32))"
            ]
          },
          "metadata": {},
          "execution_count": 57
        }
      ]
    },
    {
      "cell_type": "markdown",
      "source": [
        "##Reproducibilty\n",
        "Making flavoured randomness, using a random seed\n",
        "Define the random seed and set it\n",
        "using `th.manual_seed(seed_val)`"
      ],
      "metadata": {
        "id": "dS_PZ0rS7h3Y"
      }
    },
    {
      "cell_type": "code",
      "source": [
        "RANDOM_SEED = 42\n",
        "th.manual_seed(RANDOM_SEED)\n",
        "\n",
        "random_tensor_A = th.rand(3 , 3)\n",
        "\n",
        "th.manual_seed(RANDOM_SEED)\n",
        "random_tensor_B = th.rand(3, 3)\n",
        "\n",
        "print(random_tensor_A == random_tensor_B)"
      ],
      "metadata": {
        "colab": {
          "base_uri": "https://localhost:8080/"
        },
        "id": "WPcJRXLC9EZe",
        "outputId": "e43659f5-4ae4-4b69-fd18-79100f66f579"
      },
      "execution_count": null,
      "outputs": [
        {
          "output_type": "stream",
          "name": "stdout",
          "text": [
            "tensor([[True, True, True],\n",
            "        [True, True, True],\n",
            "        [True, True, True]])\n"
          ]
        }
      ]
    },
    {
      "cell_type": "markdown",
      "source": [
        "## Setting up GPU\n",
        "1. Using free colab gpu"
      ],
      "metadata": {
        "id": "VelgqGIm9Y-C"
      }
    },
    {
      "cell_type": "code",
      "source": [
        "# Device agnostic code\n",
        "th.cuda.is_available() # False, because we dont have cuda integrated\n"
      ],
      "metadata": {
        "colab": {
          "base_uri": "https://localhost:8080/"
        },
        "id": "rsHLxHrp_xZe",
        "outputId": "a61a3d11-4620-4f0d-a22c-0a001d308512"
      },
      "execution_count": null,
      "outputs": [
        {
          "output_type": "execute_result",
          "data": {
            "text/plain": [
              "False"
            ]
          },
          "metadata": {},
          "execution_count": 61
        }
      ]
    },
    {
      "cell_type": "code",
      "source": [
        "## If available\n",
        "device = 'cuda' if th.cuda.is_available() else 'cpu'\n",
        "device"
      ],
      "metadata": {
        "colab": {
          "base_uri": "https://localhost:8080/",
          "height": 36
        },
        "id": "4u9hKAi6_3gq",
        "outputId": "737305c0-334c-42fe-e826-e1f30cb0a9c4"
      },
      "execution_count": null,
      "outputs": [
        {
          "output_type": "execute_result",
          "data": {
            "text/plain": [
              "'cpu'"
            ],
            "application/vnd.google.colaboratory.intrinsic+json": {
              "type": "string"
            }
          },
          "metadata": {},
          "execution_count": 62
        }
      ]
    },
    {
      "cell_type": "code",
      "source": [],
      "metadata": {
        "id": "y2gWf97tAGEw"
      },
      "execution_count": null,
      "outputs": []
    }
  ]
}
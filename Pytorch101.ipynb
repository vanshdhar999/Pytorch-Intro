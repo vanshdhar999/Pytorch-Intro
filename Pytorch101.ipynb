{
  "nbformat": 4,
  "nbformat_minor": 0,
  "metadata": {
    "colab": {
      "provenance": [],
      "toc_visible": true,
      "authorship_tag": "ABX9TyNee4Jh0IP8JYlK0EZerLFe",
      "include_colab_link": true
    },
    "kernelspec": {
      "name": "python3",
      "display_name": "Python 3"
    },
    "language_info": {
      "name": "python"
    }
  },
  "cells": [
    {
      "cell_type": "markdown",
      "metadata": {
        "id": "view-in-github",
        "colab_type": "text"
      },
      "source": [
        "<a href=\"https://colab.research.google.com/github/vanshdhar999/Pytorch-Intro/blob/main/Pytorch101.ipynb\" target=\"_parent\"><img src=\"https://colab.research.google.com/assets/colab-badge.svg\" alt=\"Open In Colab\"/></a>"
      ]
    },
    {
      "cell_type": "code",
      "execution_count": 1,
      "metadata": {
        "id": "ucAf2drNbj-U"
      },
      "outputs": [],
      "source": [
        "import torch as th\n",
        "import pandas as pd\n",
        "import matplotlib.pyplot as plt\n",
        "import numpy as np"
      ]
    },
    {
      "cell_type": "markdown",
      "source": [
        "## This is a introduction to Pytorch for Machine Learning and Deep Learning. Youtube link: https://www.youtube.com/watch?v=V_xro1bcAuA&t=10326s"
      ],
      "metadata": {
        "id": "RK4CUzPhcLJu"
      }
    },
    {
      "cell_type": "markdown",
      "source": [
        "## Introduction to Tensors\n",
        "Tensors are a way to store numeric data and multidimensional data."
      ],
      "metadata": {
        "id": "j5k8uCNocu2G"
      }
    },
    {
      "cell_type": "code",
      "source": [
        "# scalar tensor\n",
        "scalar = th.tensor(7)\n",
        "# this is a scalar with 0 dimension"
      ],
      "metadata": {
        "id": "Jj9kqdZpcxMl"
      },
      "execution_count": 2,
      "outputs": []
    },
    {
      "cell_type": "code",
      "source": [
        "#how to find the dimension of the tensor\n",
        "scalar.ndim"
      ],
      "metadata": {
        "colab": {
          "base_uri": "https://localhost:8080/"
        },
        "id": "lGBqZJy6dAIp",
        "outputId": "972a2358-4f16-4a2c-afa8-747660038537"
      },
      "execution_count": 3,
      "outputs": [
        {
          "output_type": "execute_result",
          "data": {
            "text/plain": [
              "0"
            ]
          },
          "metadata": {},
          "execution_count": 3
        }
      ]
    },
    {
      "cell_type": "code",
      "source": [
        "#get tensor item back as a python int\n",
        "scalar.item()"
      ],
      "metadata": {
        "colab": {
          "base_uri": "https://localhost:8080/"
        },
        "id": "DWdFwptxdN0R",
        "outputId": "0a7f4682-c6c1-42e8-ba35-4372790525cf"
      },
      "execution_count": 4,
      "outputs": [
        {
          "output_type": "execute_result",
          "data": {
            "text/plain": [
              "7"
            ]
          },
          "metadata": {},
          "execution_count": 4
        }
      ]
    },
    {
      "cell_type": "code",
      "source": [
        " #Vector in Tensor\n",
        " vector = th.tensor([1, 2])\n",
        " vector.ndim"
      ],
      "metadata": {
        "colab": {
          "base_uri": "https://localhost:8080/"
        },
        "id": "-pLVU3Epdt1O",
        "outputId": "a953254d-e25d-4054-b619-8d0e95187e62"
      },
      "execution_count": 5,
      "outputs": [
        {
          "output_type": "execute_result",
          "data": {
            "text/plain": [
              "1"
            ]
          },
          "metadata": {},
          "execution_count": 5
        }
      ]
    },
    {
      "cell_type": "code",
      "source": [
        "#Matrix\n",
        "MATRIX = th.tensor([[1, 12, 3],\n",
        "                    [1, 12,1]])\n",
        "MATRIX.ndim"
      ],
      "metadata": {
        "colab": {
          "base_uri": "https://localhost:8080/"
        },
        "id": "agZsTz6MeGGs",
        "outputId": "ca872488-8118-44cb-d081-55fe99029be3"
      },
      "execution_count": 6,
      "outputs": [
        {
          "output_type": "execute_result",
          "data": {
            "text/plain": [
              "2"
            ]
          },
          "metadata": {},
          "execution_count": 6
        }
      ]
    },
    {
      "cell_type": "code",
      "source": [
        "\n",
        "#Tensor, any dimension, a general thumb of rule for remembering the dimension\n",
        "# (a, b, c) a -> outer dimension\n",
        "          # b and c  -> row x column\n",
        "TENSOR = th.tensor([[[1, 2, 3],\n",
        "                     [2, 3, 4],\n",
        "                     [3, 4,5]]])\n",
        "TENSOR.shape # gives the size of the tensor"
      ],
      "metadata": {
        "colab": {
          "base_uri": "https://localhost:8080/"
        },
        "id": "FfhBLYOueeRN",
        "outputId": "648bdbe4-cd06-49ef-b0a7-e9def97215ac"
      },
      "execution_count": 7,
      "outputs": [
        {
          "output_type": "execute_result",
          "data": {
            "text/plain": [
              "torch.Size([1, 3, 3])"
            ]
          },
          "metadata": {},
          "execution_count": 7
        }
      ]
    },
    {
      "cell_type": "code",
      "source": [
        "# Examples of tensor\n",
        "Tensor2 = th.tensor([[[1, 2],\n",
        "                      [2, 3],\n",
        "                       [3, 4]]])\n",
        "Tensor2.size()"
      ],
      "metadata": {
        "colab": {
          "base_uri": "https://localhost:8080/"
        },
        "id": "P2dtRUb5fU70",
        "outputId": "5dde3804-c3b8-4195-f7f8-aef41809686a"
      },
      "execution_count": 8,
      "outputs": [
        {
          "output_type": "execute_result",
          "data": {
            "text/plain": [
              "torch.Size([1, 3, 2])"
            ]
          },
          "metadata": {},
          "execution_count": 8
        }
      ]
    },
    {
      "cell_type": "markdown",
      "source": [
        "## Random Tensors"
      ],
      "metadata": {
        "id": "6wMHNux0gC9Y"
      }
    },
    {
      "cell_type": "code",
      "source": [
        "random_tensor = th.rand(1, 3, 4)\n",
        "random_tensor"
      ],
      "metadata": {
        "colab": {
          "base_uri": "https://localhost:8080/"
        },
        "id": "BwqgPmmmgrCV",
        "outputId": "45542519-24f8-4ddf-f25a-c0e441404c97"
      },
      "execution_count": 9,
      "outputs": [
        {
          "output_type": "execute_result",
          "data": {
            "text/plain": [
              "tensor([[[0.3376, 0.1746, 0.2773, 0.5463],\n",
              "         [0.5622, 0.2978, 0.0344, 0.3118],\n",
              "         [0.9613, 0.9084, 0.4890, 0.0283]]])"
            ]
          },
          "metadata": {},
          "execution_count": 9
        }
      ]
    },
    {
      "cell_type": "code",
      "source": [
        "# Images have tensors of shape (channels, height, width)\n",
        "random_image_tensor = th.rand(3, 244, 244)\n",
        "random_image_tensor"
      ],
      "metadata": {
        "colab": {
          "base_uri": "https://localhost:8080/"
        },
        "id": "5hG7L8nThCqx",
        "outputId": "25656e69-d132-4e3f-f19c-2855dad979cf"
      },
      "execution_count": 10,
      "outputs": [
        {
          "output_type": "execute_result",
          "data": {
            "text/plain": [
              "tensor([[[0.7033, 0.4407, 0.8005,  ..., 0.1315, 0.0805, 0.4244],\n",
              "         [0.5171, 0.2829, 0.1463,  ..., 0.3279, 0.5812, 0.3101],\n",
              "         [0.8955, 0.9020, 0.5861,  ..., 0.3779, 0.1705, 0.0706],\n",
              "         ...,\n",
              "         [0.6251, 0.3721, 0.2692,  ..., 0.2420, 0.9051, 0.1682],\n",
              "         [0.0212, 0.4424, 0.9554,  ..., 0.6590, 0.0342, 0.6424],\n",
              "         [0.9279, 0.1766, 0.5168,  ..., 0.5171, 0.4224, 0.1079]],\n",
              "\n",
              "        [[0.5719, 0.9704, 0.2533,  ..., 0.2944, 0.9619, 0.6138],\n",
              "         [0.9794, 0.9164, 0.6878,  ..., 0.9601, 0.2677, 0.8288],\n",
              "         [0.6488, 0.1798, 0.6535,  ..., 0.1518, 0.2724, 0.6987],\n",
              "         ...,\n",
              "         [0.4839, 0.0578, 0.5885,  ..., 0.1196, 0.7626, 0.4433],\n",
              "         [0.6442, 0.7084, 0.3660,  ..., 0.1236, 0.3156, 0.8220],\n",
              "         [0.5966, 0.3541, 0.9471,  ..., 0.8527, 0.8250, 0.7225]],\n",
              "\n",
              "        [[0.6944, 0.5404, 0.1345,  ..., 0.7683, 0.2636, 0.1208],\n",
              "         [0.3586, 0.4874, 0.4526,  ..., 0.8420, 0.7603, 0.3570],\n",
              "         [0.2218, 0.7987, 0.5769,  ..., 0.8306, 0.2585, 0.7610],\n",
              "         ...,\n",
              "         [0.8482, 0.6864, 0.0904,  ..., 0.0706, 0.4537, 0.9935],\n",
              "         [0.2198, 0.1483, 0.8699,  ..., 0.7971, 0.6975, 0.8658],\n",
              "         [0.9965, 0.9389, 0.5540,  ..., 0.9272, 0.0573, 0.2883]]])"
            ]
          },
          "metadata": {},
          "execution_count": 10
        }
      ]
    },
    {
      "cell_type": "code",
      "source": [
        "#Zeros and ones tensors\n",
        "zero = th.zeros(3, 3)\n",
        "ones = th.ones(3, 3)\n",
        "ones"
      ],
      "metadata": {
        "colab": {
          "base_uri": "https://localhost:8080/"
        },
        "id": "BhOWqg-GhCvs",
        "outputId": "80c263bf-de10-4fc8-f259-9f7f3a4164ce"
      },
      "execution_count": 11,
      "outputs": [
        {
          "output_type": "execute_result",
          "data": {
            "text/plain": [
              "tensor([[1., 1., 1.],\n",
              "        [1., 1., 1.],\n",
              "        [1., 1., 1.]])"
            ]
          },
          "metadata": {},
          "execution_count": 11
        }
      ]
    },
    {
      "cell_type": "markdown",
      "source": [
        "## Tensors range and tensors like"
      ],
      "metadata": {
        "id": "Y7q1UqsshCyB"
      }
    },
    {
      "cell_type": "code",
      "source": [
        "tensor_range = th.arange(start = 1, end = 11, step = 1)\n",
        "tensor_range"
      ],
      "metadata": {
        "colab": {
          "base_uri": "https://localhost:8080/"
        },
        "id": "uageD_JYhC0H",
        "outputId": "be2fb2d4-1241-4f31-f725-5d11befd875a"
      },
      "execution_count": 12,
      "outputs": [
        {
          "output_type": "execute_result",
          "data": {
            "text/plain": [
              "tensor([ 1,  2,  3,  4,  5,  6,  7,  8,  9, 10])"
            ]
          },
          "metadata": {},
          "execution_count": 12
        }
      ]
    },
    {
      "cell_type": "code",
      "source": [
        "## If we want to create a tensor with the same dimension as the other tensor\n",
        "tensor_like_range_zero = th.zeros_like(input=tensor_range)\n",
        "tensor_like_range_zero"
      ],
      "metadata": {
        "colab": {
          "base_uri": "https://localhost:8080/"
        },
        "id": "dgeqpYMmhC2s",
        "outputId": "47992777-3172-4d4e-b05c-2a931e8bd736"
      },
      "execution_count": 13,
      "outputs": [
        {
          "output_type": "execute_result",
          "data": {
            "text/plain": [
              "tensor([0, 0, 0, 0, 0, 0, 0, 0, 0, 0])"
            ]
          },
          "metadata": {},
          "execution_count": 13
        }
      ]
    },
    {
      "cell_type": "markdown",
      "source": [
        "###Tensors datatype\n",
        "Default datatype is float32\n",
        "We can change the dtype with\n",
        "`dtype = data_type`"
      ],
      "metadata": {
        "id": "lTdppt29hC5F"
      }
    },
    {
      "cell_type": "code",
      "source": [
        "float_32_tensor = th.tensor([1, 2, 3],\n",
        "                            dtype=None,\n",
        "                            device='cpu',\n",
        "                            requires_grad = False)"
      ],
      "metadata": {
        "id": "fMoi1pPKhC7b"
      },
      "execution_count": 14,
      "outputs": []
    },
    {
      "cell_type": "markdown",
      "source": [
        "##Tensor Operations\n",
        "Addition\n",
        "Multiplication(element-wise and normal)\n",
        "Subtraction\n",
        "Division"
      ],
      "metadata": {
        "id": "kFrglR94hC_0"
      }
    },
    {
      "cell_type": "code",
      "source": [
        "# Addition and Subtraction is done using +, -\n",
        "%%time\n",
        "tensor_1 = th.tensor([1,2,3])\n",
        "tensor_2 = th.tensor([1, 2, 3])\n",
        "tensor_1 * tensor_2 # Element Wise multiplication"
      ],
      "metadata": {
        "colab": {
          "base_uri": "https://localhost:8080/"
        },
        "id": "9U7wvBluhDCb",
        "outputId": "9e5a645d-7261-418d-f791-75297ad78890"
      },
      "execution_count": 15,
      "outputs": [
        {
          "output_type": "stream",
          "name": "stdout",
          "text": [
            "CPU times: user 335 µs, sys: 0 ns, total: 335 µs\n",
            "Wall time: 3.39 ms\n"
          ]
        },
        {
          "output_type": "execute_result",
          "data": {
            "text/plain": [
              "tensor([1, 4, 9])"
            ]
          },
          "metadata": {},
          "execution_count": 15
        }
      ]
    },
    {
      "cell_type": "code",
      "source": [
        "# Matrix multiplication is done using matmul\n",
        "print(f\"tensor_1 dim {tensor_1.ndim} tensor_2 dim {tensor_2.ndim}\")\n",
        "th.matmul(tensor_1, tensor_2)\n",
        "\n",
        "tensor_A = th.rand(3, 2)\n",
        "tensor_B = th.rand(2, 3)\n",
        "\n",
        "result = th.matmul(tensor_A, tensor_B)\n",
        "result"
      ],
      "metadata": {
        "colab": {
          "base_uri": "https://localhost:8080/"
        },
        "id": "uE2QVivVn_t4",
        "outputId": "a567803b-8447-40f5-b9c8-d2a7b659a147"
      },
      "execution_count": 16,
      "outputs": [
        {
          "output_type": "stream",
          "name": "stdout",
          "text": [
            "tensor_1 dim 1 tensor_2 dim 1\n"
          ]
        },
        {
          "output_type": "execute_result",
          "data": {
            "text/plain": [
              "tensor([[0.4679, 0.5580, 0.6973],\n",
              "        [0.4452, 0.1288, 0.3268],\n",
              "        [0.3298, 0.1696, 0.3041]])"
            ]
          },
          "metadata": {},
          "execution_count": 16
        }
      ]
    },
    {
      "cell_type": "markdown",
      "source": [
        "##Using transpose we can change the dimensions of the tensor"
      ],
      "metadata": {
        "id": "b32ey4gEoVmn"
      }
    },
    {
      "cell_type": "code",
      "source": [
        "## Transpose is used as tensor.T\n"
      ],
      "metadata": {
        "id": "BLDYi_lGpllb"
      },
      "execution_count": 17,
      "outputs": []
    },
    {
      "cell_type": "markdown",
      "source": [
        "\n",
        "## Tensor Aggregation\n",
        "We can find the min, max and the mean of the tensor"
      ],
      "metadata": {
        "id": "JoqtMaempqyx"
      }
    },
    {
      "cell_type": "code",
      "source": [
        "tensor_1= th.tensor([[2, 3],\n",
        "                  [3, 2]], dtype=th.float32)\n",
        "tensor_1.type(th.float32)\n",
        "print(f\"type {tensor_1.dtype}\")"
      ],
      "metadata": {
        "colab": {
          "base_uri": "https://localhost:8080/"
        },
        "id": "Wgvluordq6fB",
        "outputId": "dc0bbc20-270b-43fd-bfa4-6ec8618495bc"
      },
      "execution_count": 18,
      "outputs": [
        {
          "output_type": "stream",
          "name": "stdout",
          "text": [
            "type torch.float32\n"
          ]
        }
      ]
    },
    {
      "cell_type": "code",
      "source": [
        "## Min and Max of tensor\n",
        "tensor_1 = th.tensor([1, 2, 23,23], dtype=th.float)\n",
        "print(f\"max {th.max(tensor_1)}, min {th.min(tensor_1)}\")"
      ],
      "metadata": {
        "colab": {
          "base_uri": "https://localhost:8080/"
        },
        "id": "ObXESpXtq6ia",
        "outputId": "e6799ee1-b6e0-4b40-f15e-74c8b51db1a0"
      },
      "execution_count": 19,
      "outputs": [
        {
          "output_type": "stream",
          "name": "stdout",
          "text": [
            "max 23.0, min 1.0\n"
          ]
        }
      ]
    },
    {
      "cell_type": "code",
      "source": [
        "# Mean of tensor\n",
        "print(f\"Mean {th.mean(tensor_1)}\")"
      ],
      "metadata": {
        "colab": {
          "base_uri": "https://localhost:8080/"
        },
        "id": "Ut07MdmEq6nV",
        "outputId": "0abf420f-39a2-4b88-8027-c39032db20c7"
      },
      "execution_count": 20,
      "outputs": [
        {
          "output_type": "stream",
          "name": "stdout",
          "text": [
            "Mean 12.25\n"
          ]
        }
      ]
    },
    {
      "cell_type": "markdown",
      "source": [
        "##Argmin and Argmax"
      ],
      "metadata": {
        "id": "GMv5fV_tq6p9"
      }
    },
    {
      "cell_type": "code",
      "source": [
        "tensor_1.argmin(), tensor_1.argmax()"
      ],
      "metadata": {
        "colab": {
          "base_uri": "https://localhost:8080/"
        },
        "id": "MZLGwKezq6su",
        "outputId": "203d2bf9-124e-42da-f9b4-5100eb373a8a"
      },
      "execution_count": 21,
      "outputs": [
        {
          "output_type": "execute_result",
          "data": {
            "text/plain": [
              "(tensor(0), tensor(2))"
            ]
          },
          "metadata": {},
          "execution_count": 21
        }
      ]
    },
    {
      "cell_type": "markdown",
      "source": [
        "## Tensor shape manipulations\n",
        "1. Reshaping\n",
        "2. View\n",
        "3. Permute\n",
        "4. Stacking"
      ],
      "metadata": {
        "id": "zKsyKxaYq6va"
      }
    },
    {
      "cell_type": "code",
      "source": [
        "## Reshaping the tensor\n",
        "tensor_1 = th.tensor([1, 2, 3, 4])\n",
        "print(tensor_1.shape)\n",
        "tensor_changed = tensor_1.reshape(4, 1)\n",
        "# The reshape should be compatible with the original shape\n",
        "tensor_changed.shape, tensor_changed"
      ],
      "metadata": {
        "colab": {
          "base_uri": "https://localhost:8080/"
        },
        "id": "nYLIf1sOvEXZ",
        "outputId": "e27c435a-cfb2-4471-8bf9-c300f34f67ad"
      },
      "execution_count": 22,
      "outputs": [
        {
          "output_type": "stream",
          "name": "stdout",
          "text": [
            "torch.Size([4])\n"
          ]
        },
        {
          "output_type": "execute_result",
          "data": {
            "text/plain": [
              "(torch.Size([4, 1]),\n",
              " tensor([[1],\n",
              "         [2],\n",
              "         [3],\n",
              "         [4]]))"
            ]
          },
          "metadata": {},
          "execution_count": 22
        }
      ]
    },
    {
      "cell_type": "code",
      "source": [
        "##Another example\n",
        "tensor_range = th.arange(start = 1, end = 101)\n",
        "print(tensor_range, tensor_range.shape)\n",
        "tensor_changed = tensor_range.reshape(100, 1)\n",
        "tensor_changed, tensor_changed.shape"
      ],
      "metadata": {
        "id": "BrrN2DEbvHe4",
        "colab": {
          "base_uri": "https://localhost:8080/"
        },
        "outputId": "763c9292-b321-4c7f-c703-dc6b5ad62faf"
      },
      "execution_count": 23,
      "outputs": [
        {
          "output_type": "stream",
          "name": "stdout",
          "text": [
            "tensor([  1,   2,   3,   4,   5,   6,   7,   8,   9,  10,  11,  12,  13,  14,\n",
            "         15,  16,  17,  18,  19,  20,  21,  22,  23,  24,  25,  26,  27,  28,\n",
            "         29,  30,  31,  32,  33,  34,  35,  36,  37,  38,  39,  40,  41,  42,\n",
            "         43,  44,  45,  46,  47,  48,  49,  50,  51,  52,  53,  54,  55,  56,\n",
            "         57,  58,  59,  60,  61,  62,  63,  64,  65,  66,  67,  68,  69,  70,\n",
            "         71,  72,  73,  74,  75,  76,  77,  78,  79,  80,  81,  82,  83,  84,\n",
            "         85,  86,  87,  88,  89,  90,  91,  92,  93,  94,  95,  96,  97,  98,\n",
            "         99, 100]) torch.Size([100])\n"
          ]
        },
        {
          "output_type": "execute_result",
          "data": {
            "text/plain": [
              "(tensor([[  1],\n",
              "         [  2],\n",
              "         [  3],\n",
              "         [  4],\n",
              "         [  5],\n",
              "         [  6],\n",
              "         [  7],\n",
              "         [  8],\n",
              "         [  9],\n",
              "         [ 10],\n",
              "         [ 11],\n",
              "         [ 12],\n",
              "         [ 13],\n",
              "         [ 14],\n",
              "         [ 15],\n",
              "         [ 16],\n",
              "         [ 17],\n",
              "         [ 18],\n",
              "         [ 19],\n",
              "         [ 20],\n",
              "         [ 21],\n",
              "         [ 22],\n",
              "         [ 23],\n",
              "         [ 24],\n",
              "         [ 25],\n",
              "         [ 26],\n",
              "         [ 27],\n",
              "         [ 28],\n",
              "         [ 29],\n",
              "         [ 30],\n",
              "         [ 31],\n",
              "         [ 32],\n",
              "         [ 33],\n",
              "         [ 34],\n",
              "         [ 35],\n",
              "         [ 36],\n",
              "         [ 37],\n",
              "         [ 38],\n",
              "         [ 39],\n",
              "         [ 40],\n",
              "         [ 41],\n",
              "         [ 42],\n",
              "         [ 43],\n",
              "         [ 44],\n",
              "         [ 45],\n",
              "         [ 46],\n",
              "         [ 47],\n",
              "         [ 48],\n",
              "         [ 49],\n",
              "         [ 50],\n",
              "         [ 51],\n",
              "         [ 52],\n",
              "         [ 53],\n",
              "         [ 54],\n",
              "         [ 55],\n",
              "         [ 56],\n",
              "         [ 57],\n",
              "         [ 58],\n",
              "         [ 59],\n",
              "         [ 60],\n",
              "         [ 61],\n",
              "         [ 62],\n",
              "         [ 63],\n",
              "         [ 64],\n",
              "         [ 65],\n",
              "         [ 66],\n",
              "         [ 67],\n",
              "         [ 68],\n",
              "         [ 69],\n",
              "         [ 70],\n",
              "         [ 71],\n",
              "         [ 72],\n",
              "         [ 73],\n",
              "         [ 74],\n",
              "         [ 75],\n",
              "         [ 76],\n",
              "         [ 77],\n",
              "         [ 78],\n",
              "         [ 79],\n",
              "         [ 80],\n",
              "         [ 81],\n",
              "         [ 82],\n",
              "         [ 83],\n",
              "         [ 84],\n",
              "         [ 85],\n",
              "         [ 86],\n",
              "         [ 87],\n",
              "         [ 88],\n",
              "         [ 89],\n",
              "         [ 90],\n",
              "         [ 91],\n",
              "         [ 92],\n",
              "         [ 93],\n",
              "         [ 94],\n",
              "         [ 95],\n",
              "         [ 96],\n",
              "         [ 97],\n",
              "         [ 98],\n",
              "         [ 99],\n",
              "         [100]]),\n",
              " torch.Size([100, 1]))"
            ]
          },
          "metadata": {},
          "execution_count": 23
        }
      ]
    },
    {
      "cell_type": "code",
      "source": [
        "# Using the view\n",
        "# Using the view, the new tensor shares the same memory as the previos tensor\n",
        "tensor_copy = tensor_1.view(4)\n",
        "tensor_copy"
      ],
      "metadata": {
        "colab": {
          "base_uri": "https://localhost:8080/"
        },
        "id": "nsSpE5uQv7Gj",
        "outputId": "10856453-5604-4fcd-f787-dbcbcf94e43f"
      },
      "execution_count": 24,
      "outputs": [
        {
          "output_type": "execute_result",
          "data": {
            "text/plain": [
              "tensor([1, 2, 3, 4])"
            ]
          },
          "metadata": {},
          "execution_count": 24
        }
      ]
    },
    {
      "cell_type": "code",
      "source": [
        "# Stacking tensors on top of each other\n",
        "tensors_stacked = th.stack([tensor_1, tensor_1], dim=1)\n",
        "tensors_stacked, tensors_stacked.shape"
      ],
      "metadata": {
        "colab": {
          "base_uri": "https://localhost:8080/"
        },
        "id": "eYlIaj-hxPCN",
        "outputId": "0a81353d-d64c-4a6c-9301-8aedb563f9de"
      },
      "execution_count": 25,
      "outputs": [
        {
          "output_type": "execute_result",
          "data": {
            "text/plain": [
              "(tensor([[1, 1],\n",
              "         [2, 2],\n",
              "         [3, 3],\n",
              "         [4, 4]]),\n",
              " torch.Size([4, 2]))"
            ]
          },
          "metadata": {},
          "execution_count": 25
        }
      ]
    },
    {
      "cell_type": "code",
      "source": [
        "# th.stack([list of tensors], dim = 1/0)\n",
        "# 1 stacks horizontally, and 0 vertically"
      ],
      "metadata": {
        "id": "_5-FPR3VyOYy"
      },
      "execution_count": 26,
      "outputs": []
    },
    {
      "cell_type": "code",
      "source": [
        "x = th.tensor([[1, 1],\n",
        "               [1, 1]])\n",
        "print(x, x.shape)\n",
        "x_stacked = th.hstack([x, x])\n",
        "x_stacked, x_stacked.shape"
      ],
      "metadata": {
        "colab": {
          "base_uri": "https://localhost:8080/"
        },
        "id": "BZgmqsrby6vI",
        "outputId": "dcd7bc9a-5d39-4834-a264-ddec2a480d68"
      },
      "execution_count": 27,
      "outputs": [
        {
          "output_type": "stream",
          "name": "stdout",
          "text": [
            "tensor([[1, 1],\n",
            "        [1, 1]]) torch.Size([2, 2])\n"
          ]
        },
        {
          "output_type": "execute_result",
          "data": {
            "text/plain": [
              "(tensor([[1, 1, 1, 1],\n",
              "         [1, 1, 1, 1]]),\n",
              " torch.Size([2, 4]))"
            ]
          },
          "metadata": {},
          "execution_count": 27
        }
      ]
    },
    {
      "cell_type": "code",
      "source": [
        "## Permute\n",
        "x = th.tensor([[2, 2],\n",
        "               [2, 2],\n",
        "               [23,2]])\n",
        "print(f\"shape of x {x.shape} \\n\")\n",
        "y = th.permute(x, (1, 0))\n",
        "print(f'x size after permute {y.shape}')"
      ],
      "metadata": {
        "colab": {
          "base_uri": "https://localhost:8080/"
        },
        "id": "bIKeOEgS1t-H",
        "outputId": "abc1ef5b-f2e3-4fee-e1ec-6e39c3d7b61c"
      },
      "execution_count": 28,
      "outputs": [
        {
          "output_type": "stream",
          "name": "stdout",
          "text": [
            "shape of x torch.Size([3, 2]) \n",
            "\n",
            "x size after permute torch.Size([2, 3])\n"
          ]
        }
      ]
    },
    {
      "cell_type": "markdown",
      "source": [
        "##Pytorch And Numpy\n",
        "We can create tensors from numpy arrays and vice versa\n"
      ],
      "metadata": {
        "id": "SDOHGy8l29ZH"
      }
    },
    {
      "cell_type": "code",
      "source": [
        "#Numpy array to tensor\n",
        "array = np.arange(1, 10)\n",
        "tensor = th.from_numpy(array).type(th.float32)\n",
        "print(f\"Numpy array {array} \\n tensor {tensor}\")\n",
        "\n",
        "print(f'Numpy array dtype = {array.dtype} tensor dtype = {tensor.dtype}')\n",
        "\n"
      ],
      "metadata": {
        "colab": {
          "base_uri": "https://localhost:8080/"
        },
        "id": "SvCM4Nbf6fMU",
        "outputId": "7870dc15-ce1c-4b19-cf44-fa15002dce8d"
      },
      "execution_count": 29,
      "outputs": [
        {
          "output_type": "stream",
          "name": "stdout",
          "text": [
            "Numpy array [1 2 3 4 5 6 7 8 9] \n",
            " tensor tensor([1., 2., 3., 4., 5., 6., 7., 8., 9.])\n",
            "Numpy array dtype = int64 tensor dtype = torch.float32\n"
          ]
        }
      ]
    },
    {
      "cell_type": "code",
      "source": [
        "#Tensor to numpy\n",
        "tensor = th.ones(9)\n",
        "numpy_tensor = tensor.numpy()\n",
        "numpy_tensor.dtype, tensor.dtype, numpy_tensor\n"
      ],
      "metadata": {
        "colab": {
          "base_uri": "https://localhost:8080/"
        },
        "id": "3FHY89Tb6tMc",
        "outputId": "f19f0208-05cb-48e8-c796-1a739c71eca9"
      },
      "execution_count": 30,
      "outputs": [
        {
          "output_type": "execute_result",
          "data": {
            "text/plain": [
              "(dtype('float32'),\n",
              " torch.float32,\n",
              " array([1., 1., 1., 1., 1., 1., 1., 1., 1.], dtype=float32))"
            ]
          },
          "metadata": {},
          "execution_count": 30
        }
      ]
    },
    {
      "cell_type": "markdown",
      "source": [
        "##Reproducibilty\n",
        "Making flavoured randomness, using a random seed\n",
        "Define the random seed and set it\n",
        "using `th.manual_seed(seed_val)`"
      ],
      "metadata": {
        "id": "dS_PZ0rS7h3Y"
      }
    },
    {
      "cell_type": "code",
      "source": [
        "RANDOM_SEED = 42\n",
        "th.manual_seed(RANDOM_SEED)\n",
        "\n",
        "random_tensor_A = th.rand(3 , 3)\n",
        "\n",
        "th.manual_seed(RANDOM_SEED)\n",
        "random_tensor_B = th.rand(3, 3)\n",
        "\n",
        "print(random_tensor_A == random_tensor_B)"
      ],
      "metadata": {
        "colab": {
          "base_uri": "https://localhost:8080/"
        },
        "id": "WPcJRXLC9EZe",
        "outputId": "28c3af9f-00ca-4ea7-f02e-107378a73f3c"
      },
      "execution_count": 31,
      "outputs": [
        {
          "output_type": "stream",
          "name": "stdout",
          "text": [
            "tensor([[True, True, True],\n",
            "        [True, True, True],\n",
            "        [True, True, True]])\n"
          ]
        }
      ]
    },
    {
      "cell_type": "markdown",
      "source": [
        "## Setting up GPU\n",
        "1. Using free colab gpu"
      ],
      "metadata": {
        "id": "VelgqGIm9Y-C"
      }
    },
    {
      "cell_type": "code",
      "source": [
        "# Device agnostic code\n",
        "th.cuda.is_available() # False, because we dont have cuda integrated\n"
      ],
      "metadata": {
        "colab": {
          "base_uri": "https://localhost:8080/"
        },
        "id": "rsHLxHrp_xZe",
        "outputId": "ebdc72f3-907c-4a88-cd6f-6f379e64cd86"
      },
      "execution_count": 32,
      "outputs": [
        {
          "output_type": "execute_result",
          "data": {
            "text/plain": [
              "False"
            ]
          },
          "metadata": {},
          "execution_count": 32
        }
      ]
    },
    {
      "cell_type": "code",
      "source": [
        "## If available\n",
        "device = 'cuda' if th.cuda.is_available() else 'cpu'\n",
        "device"
      ],
      "metadata": {
        "colab": {
          "base_uri": "https://localhost:8080/",
          "height": 36
        },
        "id": "4u9hKAi6_3gq",
        "outputId": "f71ba06b-7cb4-40e8-a175-54ec7668f753"
      },
      "execution_count": 33,
      "outputs": [
        {
          "output_type": "execute_result",
          "data": {
            "text/plain": [
              "'cpu'"
            ],
            "application/vnd.google.colaboratory.intrinsic+json": {
              "type": "string"
            }
          },
          "metadata": {},
          "execution_count": 33
        }
      ]
    },
    {
      "cell_type": "markdown",
      "source": [
        "#Pytorch workflow\n",
        "We will go through the pytorch machine learning workflow and how we train a model and test it.\n",
        "1. Setting up the data into tensors\n",
        "2. Defining the model and training it\n",
        "3. Testing the model using validation data set or test set\n",
        "4. Fine tuning the model\n",
        "5. Saving and reloading the model\n"
      ],
      "metadata": {
        "id": "y2gWf97tAGEw"
      }
    },
    {
      "cell_type": "code",
      "source": [
        "import torch as th\n",
        "from torch import nn\n",
        "import matplotlib.pyplot as plt"
      ],
      "metadata": {
        "id": "UmBjeYP4tqPf"
      },
      "execution_count": 34,
      "outputs": []
    },
    {
      "cell_type": "markdown",
      "source": [
        "#Linear Regression model\n",
        "## y = mx + c\n",
        "### Weight and bias\n",
        "Setting up the `x_train, y_train, x_test and y_test data set using train test split method`\n"
      ],
      "metadata": {
        "id": "pYI-ItkruLXo"
      }
    },
    {
      "cell_type": "code",
      "source": [
        "X = th.arange(start = 0, end = 1, step = 0.02).unsqueeze(dim=1)\n",
        "\n",
        "weight, bias = 0.8, 1\n",
        "\n",
        "y= X * weight + bias"
      ],
      "metadata": {
        "id": "SzxqHEyJukWb"
      },
      "execution_count": 35,
      "outputs": []
    },
    {
      "cell_type": "code",
      "source": [
        "## Split the data into train and test\n",
        "train_split = int(len(X) * 0.8)\n",
        "X_train = X[ : train_split]\n",
        "y_train = y[ : train_split]\n",
        "\n",
        "X_test = X[train_split : ]\n",
        "y_test = y[train_split : ]\n",
        "\n",
        "print(f\"Training:{len(X_train)}\\nTesting:{len(X_test)}\")"
      ],
      "metadata": {
        "colab": {
          "base_uri": "https://localhost:8080/"
        },
        "id": "tBewJQGjvBmm",
        "outputId": "df115103-02fc-43d0-d837-d2b033c7ba43"
      },
      "execution_count": 36,
      "outputs": [
        {
          "output_type": "stream",
          "name": "stdout",
          "text": [
            "Training:40\n",
            "Testing:10\n"
          ]
        }
      ]
    },
    {
      "cell_type": "code",
      "source": [
        "## Define the function for plotting the data set\n",
        "def plot_predictions(X_train=X_train, y_train=y_train, X_test=X_test, y_test=y_test, predictions = None):\n",
        "  plt.figure(figsize = (10, 7))\n",
        "  plt.title('Linear Regression Model')\n",
        "\n",
        "  plt.scatter(X_train, y_train, c ='b', s=4, label=\"Training Data\")\n",
        "\n",
        "  plt.scatter(X_test, y_test, c='g', s=4, label='Test data')\n",
        "\n",
        "  if predictions is not None:\n",
        "    plt.scatter(X_test, predictions, c='r',s=4, label='Prediction')\n",
        "\n",
        "  plt.legend(prop={\"size\":14});\n"
      ],
      "metadata": {
        "id": "KpaX8inLvWHs"
      },
      "execution_count": 37,
      "outputs": []
    },
    {
      "cell_type": "code",
      "source": [
        "plot_predictions(X_train, y_train, X_test, y_test)"
      ],
      "metadata": {
        "colab": {
          "base_uri": "https://localhost:8080/",
          "height": 622
        },
        "id": "D3wOXw6sxTFn",
        "outputId": "dfb90bfc-3048-45fc-9877-f431b8716642"
      },
      "execution_count": 38,
      "outputs": [
        {
          "output_type": "display_data",
          "data": {
            "text/plain": [
              "<Figure size 1000x700 with 1 Axes>"
            ],
            "image/png": "[encoded data removed]"
          },
          "metadata": {}
        }
      ]
    },
    {
      "cell_type": "markdown",
      "source": [
        "#Linear Regression Model in Pytorch\n",
        "\n",
        "## The model subclass which inherits from torch.nn.Module always requires a forward method in it."
      ],
      "metadata": {
        "id": "0YJS_onZxYxq"
      }
    },
    {
      "cell_type": "code",
      "source": [
        "# Building the class for our linear regression model\n",
        "\n",
        "class LinearRegressionModel(nn.Module):\n",
        "\n",
        "  def __init__(self):\n",
        "    super().__init__() ## Inherit the methods of the superclass\n",
        "    self.weights = nn.Parameter(th.randn(1, requires_grad=True, dtype=th.float))\n",
        "    self.bias = nn.Parameter(th.randn(1, requires_grad=True, dtype=th.float))\n",
        "\n",
        "  ## Define the forward method\n",
        "\n",
        "  def forward(self, x: th.Tensor) -> th.Tensor:\n",
        "    return self.weights * x + self.bias\n",
        "\n"
      ],
      "metadata": {
        "id": "xB9Kcd8Gxx4E"
      },
      "execution_count": 124,
      "outputs": []
    },
    {
      "cell_type": "markdown",
      "source": [
        "#Pytorch Model Basics\n",
        "1. torch.nn\n",
        "2. torch.nn.Module\n",
        "3. torch.optim\n",
        "3. torch.Parameter\n",
        "4. def forward()"
      ],
      "metadata": {
        "id": "-56wurZXxx_5"
      }
    },
    {
      "cell_type": "code",
      "source": [
        "th.manual_seed(42)\n",
        "linear_model = LinearRegressionModel()\n",
        "linear_model.state_dict()\n",
        "## Check the model parameter with the help of  `.parameters()`"
      ],
      "metadata": {
        "colab": {
          "base_uri": "https://localhost:8080/"
        },
        "id": "F5dh-CIgxyE1",
        "outputId": "c1fd7aa0-6691-489c-9569-b562969b4a7e"
      },
      "execution_count": 125,
      "outputs": [
        {
          "output_type": "execute_result",
          "data": {
            "text/plain": [
              "OrderedDict([('weights', tensor([0.3367])), ('bias', tensor([0.1288]))])"
            ]
          },
          "metadata": {},
          "execution_count": 125
        }
      ]
    },
    {
      "cell_type": "code",
      "source": [
        "## Making predictions with the model\n",
        "## Using th.inference_model context manager\n",
        "\n",
        "##Context Manager\n",
        "with th.inference_mode():\n",
        "  y_preds = linear_model(X_test)\n",
        "\n",
        "print(f'y_preds : {y_preds}')\n",
        "plot_predictions(X_train, y_train, X_test, y_test, y_preds)\n"
      ],
      "metadata": {
        "colab": {
          "base_uri": "https://localhost:8080/",
          "height": 806
        },
        "id": "W3GeROF6xyHt",
        "outputId": "fd44f96e-0501-4743-e0d9-c595e8f650e4"
      },
      "execution_count": 126,
      "outputs": [
        {
          "output_type": "stream",
          "name": "stdout",
          "text": [
            "y_preds : tensor([[0.3982],\n",
            "        [0.4049],\n",
            "        [0.4116],\n",
            "        [0.4184],\n",
            "        [0.4251],\n",
            "        [0.4318],\n",
            "        [0.4386],\n",
            "        [0.4453],\n",
            "        [0.4520],\n",
            "        [0.4588]])\n"
          ]
        },
        {
          "output_type": "display_data",
          "data": {
            "text/plain": [
              "<Figure size 1000x700 with 1 Axes>"
            ],
            "image/png": "[encoded data removed]"
          },
          "metadata": {}
        }
      ]
    },
    {
      "cell_type": "markdown",
      "source": [
        "#Training Model\n",
        "\n",
        "For setting up the training model we need to choose a loss function and a optimizer.\n",
        "\n",
        "1. We have different loss functions for example: L1Loss, L2Loss, Cross Entropy Loss\n",
        "2. Choosing a optimizer for example Adam for SGD.\n"
      ],
      "metadata": {
        "id": "r02aLhVFxyKk"
      }
    },
    {
      "cell_type": "code",
      "source": [
        "#Setting up a loss function\n",
        "\n",
        "loss_fn = nn.L1Loss()\n",
        "\n",
        "## Setting up a optimizer\n",
        "\n",
        "optimizer = th.optim.SGD(params=linear_model.parameters(),\n",
        "                         lr=0.01)\n",
        "\n"
      ],
      "metadata": {
        "id": "a6WIh4MUxyPw"
      },
      "execution_count": 127,
      "outputs": []
    },
    {
      "cell_type": "markdown",
      "source": [
        "#Training Loop\n",
        "1. Define the epochs\n",
        "2. set the training mode `model.train()`\n",
        "3. Pass the data through the forward method\n",
        "4. Set the optimizer to zero_grad() `optimizer.zero_grad()`\n",
        "5. Calculate the loss  `loss_fn.(input, target)`\n",
        "6. Backpropagation -> `loss.backward()`\n",
        "7. Set the optimizer to perform sgd `optimizer.step()`"
      ],
      "metadata": {
        "id": "Gt_dKtg9m99N"
      }
    },
    {
      "cell_type": "code",
      "source": [
        "## Building a training loop\n",
        "\n",
        "epochs = 200\n",
        "epoch_count, train_loss, test_loss_count = [], [], []\n",
        "\n",
        "for epoch in range(epochs):\n",
        "\n",
        "  linear_model.train()\n",
        "\n",
        "  #Forward pass\n",
        "  y_pred = linear_model(X_train)\n",
        "\n",
        "  #Calculate the loss\n",
        "  loss = loss_fn(y_pred, y_train)\n",
        "\n",
        "  # Optimizer zero grad\n",
        "  optimizer.zero_grad()\n",
        "\n",
        "  # Perform back propagation on the loss with respect to the params\n",
        "  loss.backward()\n",
        "\n",
        "  # Step the optimizer (perform sgd)\n",
        "  optimizer.step()\n",
        "\n",
        "  #Testing the model\n",
        "  linear_model.eval()\n",
        "\n",
        "  with th.inference_mode():\n",
        "    test_preds = linear_model(X_test)\n",
        "\n",
        "    test_loss = loss_fn(test_preds, y_test)\n",
        "\n",
        "  if(epoch % 10 == 0):\n",
        "    print(f\"Epoch:{epoch} | Loss: {loss} | Test Loss: {test_loss}\")\n",
        "    print(linear_model.state_dict())\n",
        "  epoch_count.append(epoch)\n",
        "  train_loss.append(loss)\n",
        "  test_loss_count.append(test_loss)\n",
        "\n",
        "\n",
        "\n"
      ],
      "metadata": {
        "id": "Q5CJvpBpxySp",
        "colab": {
          "base_uri": "https://localhost:8080/"
        },
        "outputId": "cb4d3f35-6328-475e-b508-861a82ed4679"
      },
      "execution_count": 128,
      "outputs": [
        {
          "output_type": "stream",
          "name": "stdout",
          "text": [
            "Epoch:0 | Loss: 1.0518813133239746 | Test Loss: 1.270065188407898\n",
            "OrderedDict([('weights', tensor([0.3406])), ('bias', tensor([0.1388]))])\n",
            "Epoch:10 | Loss: 0.936671257019043 | Test Loss: 1.1353552341461182\n",
            "OrderedDict([('weights', tensor([0.3796])), ('bias', tensor([0.2388]))])\n",
            "Epoch:20 | Loss: 0.8214614987373352 | Test Loss: 1.000645399093628\n",
            "OrderedDict([('weights', tensor([0.4186])), ('bias', tensor([0.3388]))])\n",
            "Epoch:30 | Loss: 0.7062515020370483 | Test Loss: 0.8659355044364929\n",
            "OrderedDict([('weights', tensor([0.4576])), ('bias', tensor([0.4388]))])\n",
            "Epoch:40 | Loss: 0.5910416841506958 | Test Loss: 0.7312256097793579\n",
            "OrderedDict([('weights', tensor([0.4966])), ('bias', tensor([0.5388]))])\n",
            "Epoch:50 | Loss: 0.4758317470550537 | Test Loss: 0.5965158343315125\n",
            "OrderedDict([('weights', tensor([0.5356])), ('bias', tensor([0.6388]))])\n",
            "Epoch:60 | Loss: 0.36062195897102356 | Test Loss: 0.4618059992790222\n",
            "OrderedDict([('weights', tensor([0.5746])), ('bias', tensor([0.7388]))])\n",
            "Epoch:70 | Loss: 0.24541202187538147 | Test Loss: 0.327096164226532\n",
            "OrderedDict([('weights', tensor([0.6136])), ('bias', tensor([0.8388]))])\n",
            "Epoch:80 | Loss: 0.13020215928554535 | Test Loss: 0.19238634407520294\n",
            "OrderedDict([('weights', tensor([0.6526])), ('bias', tensor([0.9388]))])\n",
            "Epoch:90 | Loss: 0.02747386321425438 | Test Loss: 0.06996835768222809\n",
            "OrderedDict([('weights', tensor([0.6907])), ('bias', tensor([1.0273]))])\n",
            "Epoch:100 | Loss: 0.017698723822832108 | Test Loss: 0.0411229245364666\n",
            "OrderedDict([('weights', tensor([0.7136])), ('bias', tensor([1.0358]))])\n",
            "Epoch:110 | Loss: 0.01424929779022932 | Test Loss: 0.032850444316864014\n",
            "OrderedDict([('weights', tensor([0.7307])), ('bias', tensor([1.0288]))])\n",
            "Epoch:120 | Loss: 0.010820841416716576 | Test Loss: 0.02457796409726143\n",
            "OrderedDict([('weights', tensor([0.7479])), ('bias', tensor([1.0218]))])\n",
            "Epoch:130 | Loss: 0.007382303476333618 | Test Loss: 0.0163054708391428\n",
            "OrderedDict([('weights', tensor([0.7650])), ('bias', tensor([1.0148]))])\n",
            "Epoch:140 | Loss: 0.003947338555008173 | Test Loss: 0.008719992823898792\n",
            "OrderedDict([('weights', tensor([0.7820])), ('bias', tensor([1.0073]))])\n",
            "Epoch:150 | Loss: 0.0071639688685536385 | Test Loss: 0.009057116694748402\n",
            "OrderedDict([('weights', tensor([0.7906])), ('bias', tensor([0.9993]))])\n",
            "Epoch:160 | Loss: 0.0071639688685536385 | Test Loss: 0.009057116694748402\n",
            "OrderedDict([('weights', tensor([0.7906])), ('bias', tensor([0.9993]))])\n",
            "Epoch:170 | Loss: 0.0071639688685536385 | Test Loss: 0.009057116694748402\n",
            "OrderedDict([('weights', tensor([0.7906])), ('bias', tensor([0.9993]))])\n",
            "Epoch:180 | Loss: 0.0071639688685536385 | Test Loss: 0.009057116694748402\n",
            "OrderedDict([('weights', tensor([0.7906])), ('bias', tensor([0.9993]))])\n",
            "Epoch:190 | Loss: 0.0071639688685536385 | Test Loss: 0.009057116694748402\n",
            "OrderedDict([('weights', tensor([0.7906])), ('bias', tensor([0.9993]))])\n"
          ]
        }
      ]
    },
    {
      "cell_type": "code",
      "source": [
        "linear_model.state_dict()"
      ],
      "metadata": {
        "colab": {
          "base_uri": "https://localhost:8080/"
        },
        "id": "x5ESNEIcw3dm",
        "outputId": "a07dd6ec-e167-4ae4-fc8d-9c92e133a587"
      },
      "execution_count": 129,
      "outputs": [
        {
          "output_type": "execute_result",
          "data": {
            "text/plain": [
              "OrderedDict([('weights', tensor([0.7945])), ('bias', tensor([1.0093]))])"
            ]
          },
          "metadata": {},
          "execution_count": 129
        }
      ]
    },
    {
      "cell_type": "code",
      "source": [
        "with th.inference_mode():\n",
        "  y_preds_new = linear_model(X_test)"
      ],
      "metadata": {
        "id": "zTvXIUsnw3f_"
      },
      "execution_count": 130,
      "outputs": []
    },
    {
      "cell_type": "code",
      "source": [
        "plot_predictions(predictions=y_preds_new)"
      ],
      "metadata": {
        "colab": {
          "base_uri": "https://localhost:8080/",
          "height": 622
        },
        "id": "e_tuawaRw3ik",
        "outputId": "27f318e8-7642-4269-bacc-58f3708e2a6a"
      },
      "execution_count": 131,
      "outputs": [
        {
          "output_type": "display_data",
          "data": {
            "text/plain": [
              "<Figure size 1000x700 with 1 Axes>"
            ],
            "image/png": "[encoded data removed]"
          },
          "metadata": {}
        }
      ]
    },
    {
      "cell_type": "markdown",
      "source": [
        "##Converting from tensor to numpy array for ploting\n",
        "`np.array(th.tensor(tensor_array)).numpy()`"
      ],
      "metadata": {
        "id": "625Dw0hT6zfr"
      }
    },
    {
      "cell_type": "code",
      "source": [
        "## Plot the training and test loss curves\n",
        "\n",
        "plt.plot(epoch_count,np.array(th.tensor(train_loss).numpy()), label=\"Train Loss\")\n",
        "plt.plot(epoch_count, np.array(th.tensor(test_loss_count).numpy()), label=\"Test Loss\")\n",
        "\n",
        "plt.title(\"Training and test loss\")\n",
        "plt.xlabel(\"Epochs\")\n",
        "plt.ylabel(\"Loss\")\n",
        "plt.legend()"
      ],
      "metadata": {
        "colab": {
          "base_uri": "https://localhost:8080/",
          "height": 490
        },
        "id": "qEuO4U7Iw3lJ",
        "outputId": "a3664a52-3974-4521-982b-1bbaa7e31144"
      },
      "execution_count": 132,
      "outputs": [
        {
          "output_type": "execute_result",
          "data": {
            "text/plain": [
              "<matplotlib.legend.Legend at 0x7e038c9af160>"
            ]
          },
          "metadata": {},
          "execution_count": 132
        },
        {
          "output_type": "display_data",
          "data": {
            "text/plain": [
              "<Figure size 640x480 with 1 Axes>"
            ],
            "image/png": "[encoded data removed]"
          },
          "metadata": {}
        }
      ]
    },
    {
      "cell_type": "markdown",
      "source": [
        "#Saving And Loading Models\n",
        "\n",
        "We can save a model in three ways:\n",
        "1. torch.save() - save in python pickle format\n",
        "2. torch.load() - allows you to load a model\n",
        "3. torch.nn.Module.load_state_dict() - this allows you to load a models saved state dictionary\n",
        "\n",
        "We can save the entire model or jsut the state_dict(), it is recommended to save the state_dict()"
      ],
      "metadata": {
        "id": "0B4I0UyX6gMo"
      }
    },
    {
      "cell_type": "code",
      "source": [
        "from pathlib import Path\n",
        "\n",
        "## Create your own directory for saving the model\n",
        "PATH = Path('models')\n",
        "\n",
        "PATH.mkdir(parents=True, exist_ok=True)\n",
        "\n",
        "## Create model save path\n",
        "MODEL_NAME = \"linear_regression_model.pth\"\n",
        "MODEL_SAVE_PATH = PATH / MODEL_NAME\n",
        "\n",
        "## SAVE the model\n",
        "print(f\"Saving the model in {MODEL_SAVE_PATH}\")\n",
        "\n",
        "th.save(obj=linear_model.state_dict(),\n",
        "        f = MODEL_SAVE_PATH)\n"
      ],
      "metadata": {
        "colab": {
          "base_uri": "https://localhost:8080/"
        },
        "id": "g6KEZqc2_MmC",
        "outputId": "2de6cba7-a86b-439c-e5c9-7231e7d29f7c"
      },
      "execution_count": 136,
      "outputs": [
        {
          "output_type": "stream",
          "name": "stdout",
          "text": [
            "Saving the model in models/linear_regression_model.pth\n"
          ]
        }
      ]
    },
    {
      "cell_type": "code",
      "source": [
        "## Loading a model\n",
        "loaded_linear_model = LinearRegressionModel()\n",
        "\n",
        "## Loading a model from the load_state_dict method of the nn.Module\n",
        "\n",
        "loaded_linear_model.load_state_dict(th.load(f=MODEL_SAVE_PATH))\n",
        "\n",
        "loaded_linear_model.eval()\n",
        "\n",
        "with th.inference_mode():\n",
        "  loaded_preds = loaded_linear_model(X_test)\n",
        "\n",
        "plot_predictions(predictions=loaded_preds)"
      ],
      "metadata": {
        "colab": {
          "base_uri": "https://localhost:8080/",
          "height": 622
        },
        "id": "6y0Vc9rz_xzz",
        "outputId": "9ca4d086-f01c-4fd4-9947-a266d6f59b9a"
      },
      "execution_count": 142,
      "outputs": [
        {
          "output_type": "display_data",
          "data": {
            "text/plain": [
              "<Figure size 1000x700 with 1 Axes>"
            ],
            "image/png": "[encoded data removed]"
          },
          "metadata": {}
        }
      ]
    },
    {
      "cell_type": "code",
      "source": [],
      "metadata": {
        "id": "PNSZ_odlA3zH"
      },
      "execution_count": null,
      "outputs": []
    }
  ]
}